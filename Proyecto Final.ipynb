{
 "cells": [
  {
   "cell_type": "markdown",
   "metadata": {},
   "source": [
    "# Proyecto Final: Modelo para el resfriado común en una casa\n",
    "\n",
    "Para poder hacer la simulación es necesario crear un código que nos genere primero la matriz de transiciones posibles $P_{(i,r)(k,l)}$."
   ]
  },
  {
   "cell_type": "code",
   "execution_count": 1,
   "metadata": {},
   "outputs": [],
   "source": [
    "import matplotlib.pyplot as plt\n",
    "import numpy as np\n",
    "import pandas as pd\n",
    "import math\n",
    "from math import*"
   ]
  },
  {
   "cell_type": "code",
   "execution_count": 2,
   "metadata": {},
   "outputs": [],
   "source": [
    "#Cantidad de individuos en la familia y parámetro R0\n",
    "N=5\n",
    "R0=0.154"
   ]
  },
  {
   "cell_type": "code",
   "execution_count": 3,
   "metadata": {},
   "outputs": [],
   "source": [
    "#Generamos la matriz de las posibles transiciones\n",
    "Transiciones=np.zeros((N+1, N+1, N+1, N+1))"
   ]
  },
  {
   "cell_type": "code",
   "execution_count": 45,
   "metadata": {},
   "outputs": [],
   "source": [
    "#Añadiremos las posibles transiciones\n",
    "\n",
    "#Primera posible transición: infectados\n",
    "for i in range(1,N):\n",
    "    for j in range(N-i):\n",
    "        Transiciones[i,j,i+1,j]=(R0*(N-i-j))/(R0*(N-i-j)+1)\n",
    "        \n",
    "#Segunda posible transición: recuperados\n",
    "for i in range(1,N+1):\n",
    "    for j in range(N-i+1):\n",
    "        Transiciones[i,j,i-1,j+1]=1/(R0*(N-i-j)+1)\n",
    "        \n",
    "#Tercer posible transición: estados absorbentes\n",
    "for j in range(N+1):\n",
    "        Transiciones[0,j,0,j]=1"
   ]
  },
  {
   "cell_type": "markdown",
   "metadata": {},
   "source": [
    "Una vez generada la matriz de transiciones posibles, haremos una nueva matriz que sea la distribución de probabilidad en los estados $q_{i,r}(n)$."
   ]
  },
  {
   "cell_type": "code",
   "execution_count": 74,
   "metadata": {},
   "outputs": [],
   "source": [
    "#Matriz de distribución de probabilidad en los estados\n",
    "Q=np.zeros((N+1,N+1))\n",
    "Q[1,0]=1    #Comenzamos con el estado (1,0)=1"
   ]
  },
  {
   "cell_type": "markdown",
   "metadata": {},
   "source": [
    "Ahora buscaremos encontrar el tamaño final de la epidemia. Para ello haremos una función que luego iteraremos varias veces con el fin de analizar varios eventos. "
   ]
  },
  {
   "cell_type": "code",
   "execution_count": 75,
   "metadata": {},
   "outputs": [],
   "source": [
    "for a in range(10): #Haremos el mismo proceso varias veces simulando varios eventos consecutivos\n",
    "    Qev=np.zeros((N+1,N+1))\n",
    "    for i in range(N+1):\n",
    "        for j in range(N+1):\n",
    "            for k in range(N+1):\n",
    "                for l in range(N+1):\n",
    "                    Qev[i,j]=Qev[i,j]+Transiciones[k,l,i,j]*Q[k,l]\n",
    "    Q=Qev"
   ]
  },
  {
   "cell_type": "markdown",
   "metadata": {},
   "source": [
    "El código de arriba nos ayudará a realizar la suma sobre todos los posibles estados $(k,l)$, como planteamos en la parte escrita. Además, esta función nos da el resultado de $n$ eventos suficientes para que termine la pandemia, por lo tanto si imprimimos la matriz final deberíamos ver que los estados de la forma\n",
    "$$(i,r)=0 \\hspace{5mm} i\\neq 0, \\forall r $$"
   ]
  },
  {
   "cell_type": "code",
   "execution_count": 76,
   "metadata": {},
   "outputs": [
    {
     "data": {
      "text/plain": [
       "array([[0.        , 0.61881188, 0.1783383 , 0.1019866 , 0.06631664,\n",
       "        0.03454659],\n",
       "       [0.        , 0.        , 0.        , 0.        , 0.        ,\n",
       "        0.        ],\n",
       "       [0.        , 0.        , 0.        , 0.        , 0.        ,\n",
       "        0.        ],\n",
       "       [0.        , 0.        , 0.        , 0.        , 0.        ,\n",
       "        0.        ],\n",
       "       [0.        , 0.        , 0.        , 0.        , 0.        ,\n",
       "        0.        ],\n",
       "       [0.        , 0.        , 0.        , 0.        , 0.        ,\n",
       "        0.        ]])"
      ]
     },
     "execution_count": 76,
     "metadata": {},
     "output_type": "execute_result"
    }
   ],
   "source": [
    "Q"
   ]
  },
  {
   "cell_type": "markdown",
   "metadata": {},
   "source": [
    "Notamos que efectivamente sí se obtiene una matriz que tiene este comportamiento. Si graficamos los datos, estos se verán como a continuación:"
   ]
  },
  {
   "cell_type": "code",
   "execution_count": 77,
   "metadata": {},
   "outputs": [
    {
     "data": {
      "image/png": "[encoded data removed]",
      "text/plain": [
       "<Figure size 432x288 with 1 Axes>"
      ]
     },
     "metadata": {
      "needs_background": "light"
     },
     "output_type": "display_data"
    }
   ],
   "source": [
    "#Ahora graficaremos los datos resultantes\n",
    "for i in range(1,N+1):\n",
    "    plt.scatter(i,Q[0,i])"
   ]
  },
  {
   "cell_type": "markdown",
   "metadata": {},
   "source": [
    "Notamos que los resultados obtenidos sí son probabilidades y hacen sentido. Ahora compararemos con los datos existentes."
   ]
  },
  {
   "cell_type": "code",
   "execution_count": null,
   "metadata": {},
   "outputs": [],
   "source": []
  }
 ],
 "metadata": {
  "kernelspec": {
   "display_name": "Python 3",
   "language": "python",
   "name": "python3"
  },
  "language_info": {
   "codemirror_mode": {
    "name": "ipython",
    "version": 3
   },
   "file_extension": ".py",
   "mimetype": "text/x-python",
   "name": "python",
   "nbconvert_exporter": "python",
   "pygments_lexer": "ipython3",
   "version": "3.8.5"
  }
 },
 "nbformat": 4,
 "nbformat_minor": 4
}
