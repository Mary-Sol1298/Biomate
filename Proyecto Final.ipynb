{
 "cells": [
  {
   "cell_type": "markdown",
   "metadata": {},
   "source": [
    "# Proyecto Final: Modelo para el resfriado común en una casa\n",
    "## María del Sol Reyes Ortiz\n",
    "\n",
    "Para poder hacer la simulación es necesario crear un código que nos genere primero la matriz de transiciones posibles $P_{(i,r)(k,l)}$."
   ]
  },
  {
   "cell_type": "code",
   "execution_count": 63,
   "metadata": {},
   "outputs": [],
   "source": [
    "import matplotlib.pyplot as plt\n",
    "import numpy as np\n",
    "import pandas as pd\n",
    "import math\n",
    "from math import*"
   ]
  },
  {
   "cell_type": "code",
   "execution_count": 2,
   "metadata": {},
   "outputs": [],
   "source": [
    "#Cantidad de individuos en la familia y parámetro R0\n",
    "N=5\n",
    "R0=0.154"
   ]
  },
  {
   "cell_type": "code",
   "execution_count": 3,
   "metadata": {},
   "outputs": [],
   "source": [
    "#Generamos la matriz de las posibles transiciones\n",
    "Transiciones=np.zeros((N+1, N+1, N+1, N+1))"
   ]
  },
  {
   "cell_type": "code",
   "execution_count": 4,
   "metadata": {},
   "outputs": [],
   "source": [
    "#Añadiremos las posibles transiciones\n",
    "\n",
    "#Primera posible transición: infectados\n",
    "for i in range(1,N):\n",
    "    for j in range(N-i):\n",
    "        Transiciones[i,j,i+1,j]=(R0*(N-i-j))/(R0*(N-i-j)+1)\n",
    "        \n",
    "#Segunda posible transición: recuperados\n",
    "for i in range(1,N+1):\n",
    "    for j in range(N-i+1):\n",
    "        Transiciones[i,j,i-1,j+1]=1/(R0*(N-i-j)+1)\n",
    "        \n",
    "#Tercer posible transición: estados absorbentes\n",
    "for j in range(N+1):\n",
    "        Transiciones[0,j,0,j]=1"
   ]
  },
  {
   "cell_type": "markdown",
   "metadata": {},
   "source": [
    "Una vez generada la matriz de transiciones posibles, haremos una nueva matriz que sea la distribución de probabilidad en los estados $q_{i,r}(n)$."
   ]
  },
  {
   "cell_type": "code",
   "execution_count": 51,
   "metadata": {},
   "outputs": [],
   "source": [
    "#Matriz de distribución de probabilidad en los estados\n",
    "Q=np.zeros((N+1,N+1))\n",
    "Q[1,0]=1    #Comenzamos con el estado (1,0)=1"
   ]
  },
  {
   "cell_type": "markdown",
   "metadata": {},
   "source": [
    "Ahora buscaremos encontrar el tamaño final de la epidemia. Para ello haremos una función que luego iteraremos varias veces con el fin de analizar varios eventos. "
   ]
  },
  {
   "cell_type": "code",
   "execution_count": 64,
   "metadata": {},
   "outputs": [],
   "source": [
    "def evento(matrix):\n",
    "    Qev=np.zeros((N+1,N+1))\n",
    "    for i in range(1,N+1):\n",
    "        for j in range(1,N+1):\n",
    "            for k in range(1,N+1):\n",
    "                for l in range(1,N+1):\n",
    "                    np.array(Qev)[i,j]=np.array(Qev)[i,j]+np.array(matrix)[k,l]*np.array(Transiciones)[k,l,i,j]\n",
    "    return Qev"
   ]
  },
  {
   "cell_type": "markdown",
   "metadata": {},
   "source": [
    "La función de arriba nos ayudará a realizar la suma sobre todos los posibles estados $(k,l)$, como planteamos en la parte escrita. Sin embargo, esta función sólo nos da el resultado de un evento $n-1$ al siguiente evento $n$, por lo tanto si queremos realizar varios eventos seguidos debemos correrla las veces de eventos que deseemos."
   ]
  },
  {
   "cell_type": "code",
   "execution_count": 65,
   "metadata": {},
   "outputs": [],
   "source": [
    "for a in range(1,10):  #Analizaremos 9 eventos (veremos si son suficientes)\n",
    "    Q=evento(Q)"
   ]
  },
  {
   "cell_type": "code",
   "execution_count": 67,
   "metadata": {},
   "outputs": [
    {
     "data": {
      "image/png": "[encoded data removed]",
      "text/plain": [
       "<Figure size 432x288 with 1 Axes>"
      ]
     },
     "metadata": {
      "needs_background": "light"
     },
     "output_type": "display_data"
    }
   ],
   "source": [
    "#Ahora graficaremos los datos resultantes\n",
    "for i in range(1,N+1):\n",
    "    plt.scatter(i,Q[0,i])"
   ]
  },
  {
   "cell_type": "code",
   "execution_count": 66,
   "metadata": {},
   "outputs": [
    {
     "data": {
      "text/plain": [
       "array([[0., 0., 0., 0., 0., 0.],\n",
       "       [0., 0., 0., 0., 0., 0.],\n",
       "       [0., 0., 0., 0., 0., 0.],\n",
       "       [0., 0., 0., 0., 0., 0.],\n",
       "       [0., 0., 0., 0., 0., 0.],\n",
       "       [0., 0., 0., 0., 0., 0.]])"
      ]
     },
     "execution_count": 66,
     "metadata": {},
     "output_type": "execute_result"
    }
   ],
   "source": [
    "evento(Q)"
   ]
  },
  {
   "cell_type": "code",
   "execution_count": null,
   "metadata": {},
   "outputs": [],
   "source": []
  }
 ],
 "metadata": {
  "kernelspec": {
   "display_name": "Python 3",
   "language": "python",
   "name": "python3"
  },
  "language_info": {
   "codemirror_mode": {
    "name": "ipython",
    "version": 3
   },
   "file_extension": ".py",
   "mimetype": "text/x-python",
   "name": "python",
   "nbconvert_exporter": "python",
   "pygments_lexer": "ipython3",
   "version": "3.8.5"
  }
 },
 "nbformat": 4,
 "nbformat_minor": 4
}
